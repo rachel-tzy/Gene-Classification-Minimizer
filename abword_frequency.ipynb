{
 "cells": [
  {
   "cell_type": "code",
   "execution_count": 85,
   "id": "8d01fd00",
   "metadata": {},
   "outputs": [],
   "source": [
    "import numpy as np\n",
    "from data_handling_abword import read_data_abword_frequency, generate_seq_tsv"
   ]
  },
  {
   "cell_type": "code",
   "execution_count": 89,
   "id": "c2ef22e5",
   "metadata": {},
   "outputs": [],
   "source": [
    "seq_file_name = 'C:\\\\Users\\\\TZY\\\\PycharmProjects\\\\Metagenomic Data\\\\Mgnify\\\\10genus\\\\train\\\\10genus_dict.npy'\n",
    "seq_out_put = 'C:\\\\Users\\\\TZY\\\\PycharmProjects\\\\Metagenomic Data\\\\Mgnify\\\\10genus\\\\train\\\\Mgnify-10genus-prediction-50to200_train.tsv'\n",
    "# generate_seq_tsv(seq_out_put, seq_file_name, 50, 200, 5)\n",
    "label_path = 'C:\\\\Users\\\\TZY\\\\PycharmProjects\\\\Metagenomic Data\\\\Mgnify\\\\10genus\\\\train\\\\10genus_label_dict.npy'\n",
    "LABEL_DICT = np.load(label_path, allow_pickle=True).item()\n",
    "word_length = 4"
   ]
  },
  {
   "cell_type": "code",
   "execution_count": 91,
   "id": "6577abee",
   "metadata": {},
   "outputs": [
    {
     "name": "stdout",
     "output_type": "stream",
     "text": [
      "[7, 6, 1, 9, 6]\n",
      "[[0. 0. 0. 0. 0. 0. 0. 0. 0. 0. 0. 0. 0. 0. 0. 0. 0. 0. 0. 0. 0. 0. 0. 0.\n",
      "  0. 0. 0. 0. 0. 0. 0. 0. 0. 0. 0. 0. 0. 0. 0. 0. 0. 0. 0. 0. 0. 0. 0. 0.\n",
      "  0. 0. 0. 0. 0. 0. 0. 0. 0. 0. 0. 0. 0. 0. 0. 0. 0. 0. 0. 0. 0. 0. 0. 0.\n",
      "  0. 0. 0. 0. 0. 0. 0. 0. 0. 0. 0. 0. 0. 0. 0. 0. 0. 0. 0. 0. 0. 0. 0. 0.\n",
      "  0. 0. 0. 0. 0. 0. 0. 0. 0. 0. 0. 0.]\n",
      " [0. 0. 0. 0. 0. 0. 0. 0. 0. 0. 0. 0. 0. 0. 0. 0. 0. 0. 0. 0. 0. 0. 0. 0.\n",
      "  0. 0. 0. 0. 0. 0. 0. 0. 0. 0. 0. 0. 0. 0. 0. 0. 0. 0. 0. 0. 0. 0. 0. 0.\n",
      "  0. 0. 0. 0. 0. 0. 0. 0. 0. 0. 0. 0. 0. 0. 0. 0. 0. 0. 0. 0. 0. 0. 0. 0.\n",
      "  0. 0. 0. 0. 0. 0. 0. 0. 0. 0. 0. 0. 0. 0. 0. 0. 0. 0. 0. 0. 0. 0. 0. 0.\n",
      "  0. 0. 0. 0. 0. 0. 0. 0. 0. 0. 0. 0.]\n",
      " [0. 0. 0. 0. 0. 0. 0. 0. 0. 0. 0. 0. 0. 0. 0. 0. 0. 0. 0. 0. 0. 0. 0. 0.\n",
      "  0. 0. 0. 0. 0. 0. 0. 0. 0. 0. 0. 0. 0. 0. 0. 0. 0. 0. 0. 0. 0. 0. 0. 0.\n",
      "  0. 0. 0. 0. 0. 0. 0. 0. 0. 0. 0. 0. 0. 0. 0. 0. 0. 0. 0. 0. 0. 0. 0. 0.\n",
      "  0. 0. 0. 0. 0. 0. 0. 0. 0. 0. 0. 0. 0. 0. 0. 0. 0. 0. 0. 0. 0. 0. 0. 0.\n",
      "  0. 0. 0. 0. 0. 0. 0. 0. 0. 0. 0. 0.]\n",
      " [0. 0. 0. 0. 0. 0. 0. 0. 0. 0. 0. 0. 0. 0. 0. 0. 0. 0. 0. 0. 0. 0. 0. 0.\n",
      "  0. 0. 0. 0. 0. 0. 0. 0. 0. 0. 0. 0. 0. 0. 0. 0. 0. 0. 0. 0. 0. 0. 0. 0.\n",
      "  0. 0. 0. 0. 0. 0. 0. 0. 0. 0. 0. 0. 0. 0. 0. 0. 0. 0. 0. 0. 0. 0. 0. 0.\n",
      "  0. 0. 0. 0. 0. 0. 0. 0. 0. 0. 0. 0. 0. 0. 0. 0. 0. 0. 0. 0. 0. 0. 0. 0.\n",
      "  0. 0. 0. 0. 0. 0. 0. 0. 0. 0. 0. 0.]\n",
      " [0. 0. 0. 0. 0. 0. 0. 0. 0. 0. 0. 0. 0. 0. 0. 0. 0. 0. 0. 0. 0. 0. 0. 0.\n",
      "  0. 0. 0. 0. 0. 0. 0. 0. 0. 0. 0. 0. 0. 0. 0. 0. 0. 0. 0. 0. 0. 0. 0. 0.\n",
      "  0. 0. 0. 0. 0. 0. 0. 0. 0. 0. 0. 0. 0. 0. 0. 0. 0. 0. 0. 0. 0. 0. 0. 0.\n",
      "  0. 0. 0. 0. 0. 0. 0. 0. 0. 0. 0. 0. 0. 0. 0. 0. 0. 0. 0. 0. 0. 0. 0. 0.\n",
      "  0. 0. 0. 0. 0. 0. 0. 0. 0. 0. 0. 0.]]\n"
     ]
    }
   ],
   "source": [
    "x, y = read_data_abword_frequency(LABEL_DICT, seq_out_put, 4)\n",
    "print(y)\n",
    "print(x)"
   ]
  },
  {
   "cell_type": "code",
   "execution_count": 92,
   "id": "71284e74",
   "metadata": {},
   "outputs": [
    {
     "name": "stdout",
     "output_type": "stream",
     "text": [
      "clf.support_vectors_\n",
      "[[0.39149519 0.89635728]\n",
      " [0.97880407 2.26144744]\n",
      " [2.61311169 2.58774351]\n",
      " [1.6448857  1.20768141]\n",
      " [3.58057881 3.43199283]\n",
      " [4.02660689 4.12098876]\n",
      " [5.67474149 5.30948696]]\n",
      "clf.n_support_\n",
      "[1 3 2 1]\n",
      "clf.support_\n",
      "[ 1 10 14 16 20 28 31]\n",
      "clf.dual_coef_\n",
      "[[ 1.33143525 -0.43355065 -0.         -0.89788459 -0.12048409 -0.\n",
      "  -0.04220442]\n",
      " [ 0.12048409  0.          1.21304109  0.         -1.21304109 -0.\n",
      "  -0.11917911]\n",
      " [ 0.04220442  0.          0.11917911  0.          0.          0.48417772\n",
      "  -0.48417772]]\n",
      "clf.coef_\n",
      "clf.intercept_\n",
      "[2.32166302 1.42426621 1.25424389 6.71682103 2.79287738 6.58414668]\n",
      "[[0.07026597 0.73452862 0.84501399 4.51913453 2.1036201  5.21071228]]\n",
      "[0]\n"
     ]
    },
    {
     "data": {
      "image/png": "[encoded data removed]",
      "text/plain": [
       "<Figure size 432x288 with 1 Axes>"
      ]
     },
     "metadata": {
      "needs_background": "light"
     },
     "output_type": "display_data"
    }
   ],
   "source": [
    "import numpy as np\n",
    "import matplotlib.pyplot as plt\n",
    "from sklearn import svm\n",
    "from sklearn.datasets import make_blobs\n",
    "\n",
    "n_samples = [10, 10, 10, 10]\n",
    "centers = [[0.0, 0.0], [2.0, 2.0], [4.0, 4.0], [6.0, 6.0]]\n",
    "cluster_std = [0.4, 0.4, 0.4, 0.4]\n",
    "\n",
    "x, y = make_blobs(n_samples=n_samples, centers=centers, cluster_std=cluster_std, random_state=0, shuffle=False)\n",
    "\n",
    "clf = svm.SVC(kernel='linear', C=10, gamma=0.5, decision_function_shape='ovo')\n",
    "clf.fit(x, y)\n",
    "\n",
    "xx = np.linspace(-1, 7, 400)\n",
    "yy = np.linspace(-1, 7, 400)\n",
    "XX, YY = np.meshgrid(xx, yy)\n",
    "XY = np.vstack([XX.ravel(), YY.ravel()]).T\n",
    "Z = clf.predict(XY).reshape(XX.shape)\n",
    "plt.pcolormesh(XX, YY, Z, cmap=plt.cm.rainbow)\n",
    "\n",
    "plt.scatter(x[:, 0], x[:, 1], c=y, cmap=plt.cm.rainbow, edgecolors='k')\n",
    "plt.scatter(clf.support_vectors_[:, 0], clf.support_vectors_[:, 1], s=100, facecolors='none', edgecolors='k')\n",
    "\n",
    "print('clf.support_vectors_')\n",
    "print(clf.support_vectors_)\n",
    "\n",
    "print('clf.n_support_')\n",
    "print(clf.n_support_)\n",
    "\n",
    "print('clf.support_')\n",
    "print(clf.support_)\n",
    "\n",
    "print('clf.dual_coef_')\n",
    "print(clf.dual_coef_)\n",
    "\n",
    "print('clf.coef_')\n",
    "#print(clf.coef_)\n",
    "\n",
    "print('clf.intercept_')\n",
    "print(clf.intercept_)\n",
    "\n",
    "print(clf.decision_function([[1, 1]]))\n",
    "print(clf.predict([[1, 1]]))\n",
    "\n",
    "plt.show()"
   ]
  },
  {
   "cell_type": "code",
   "execution_count": null,
   "id": "849be4ee",
   "metadata": {},
   "outputs": [],
   "source": []
  }
 ],
 "metadata": {
  "kernelspec": {
   "display_name": "Python 3 (ipykernel)",
   "language": "python",
   "name": "python3"
  },
  "language_info": {
   "codemirror_mode": {
    "name": "ipython",
    "version": 3
   },
   "file_extension": ".py",
   "mimetype": "text/x-python",
   "name": "python",
   "nbconvert_exporter": "python",
   "pygments_lexer": "ipython3",
   "version": "3.9.6"
  }
 },
 "nbformat": 4,
 "nbformat_minor": 5
}
